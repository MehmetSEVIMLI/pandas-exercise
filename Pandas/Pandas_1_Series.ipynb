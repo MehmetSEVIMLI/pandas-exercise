{
  "cells": [
    {
      "cell_type": "markdown",
      "metadata": {
        "id": "L0J-71lWTi6P"
      },
      "source": [
        "# Pandas Nedir ?"
      ]
    },
    {
      "cell_type": "code",
      "execution_count": null,
      "metadata": {
        "id": "DeMfnyTYThJd"
      },
      "outputs": [],
      "source": [
        "# Pandas açık kaynaklı ve ücretsiz veri(bilgi) işleme, manipüle etme, temizleme vb. işlemleri yapabileceğimiz oldukça efektik bir kütüphanedir.\n",
        "# Pandas kütüphanesi NumPy kütüphanesi üzerine kurulmuş bir kütüphanedir.\n",
        "# Pandas elimizdeki veriyi(bilgiyi) şekillendirip işlememize ve veriden ANLAMLI SONUÇLAR çıkarmamıza olanak sağlar.\n",
        "# Pandas kütüphanesinin temel elemanları Series ve DataFrame'dir.\n",
        "# Series ve DataFrame nesnelerini excel tabloları gibi düşünebiliriz."
      ]
    },
    {
      "cell_type": "markdown",
      "metadata": {
        "id": "tKzCkD_AWF60"
      },
      "source": [
        "# Pandas'ı Import Etme"
      ]
    },
    {
      "cell_type": "code",
      "execution_count": 1,
      "metadata": {
        "colab": {
          "base_uri": "https://localhost:8080/"
        },
        "id": "RENsN8erWIAl",
        "outputId": "5f1282c5-509f-44ae-8021-593a380c247c"
      },
      "outputs": [
        {
          "name": "stdout",
          "output_type": "stream",
          "text": [
            "Looking in indexes: https://pypi.org/simple, https://us-python.pkg.dev/colab-wheels/public/simple/\n",
            "Requirement already satisfied: pandas in /usr/local/lib/python3.9/dist-packages (1.4.4)\n",
            "Requirement already satisfied: numpy>=1.18.5 in /usr/local/lib/python3.9/dist-packages (from pandas) (1.22.4)\n",
            "Requirement already satisfied: pytz>=2020.1 in /usr/local/lib/python3.9/dist-packages (from pandas) (2022.7.1)\n",
            "Requirement already satisfied: python-dateutil>=2.8.1 in /usr/local/lib/python3.9/dist-packages (from pandas) (2.8.2)\n",
            "Requirement already satisfied: six>=1.5 in /usr/local/lib/python3.9/dist-packages (from python-dateutil>=2.8.1->pandas) (1.16.0)\n"
          ]
        }
      ],
      "source": [
        "# !pip install pandas"
      ]
    },
    {
      "cell_type": "markdown",
      "metadata": {
        "id": "2PS2EdaMWDU_"
      },
      "source": [
        "# Series Oluşturma"
      ]
    },
    {
      "cell_type": "code",
      "execution_count": 2,
      "metadata": {
        "id": "m1F33YgJUhBu"
      },
      "outputs": [],
      "source": [
        "# import pandas\n",
        "import pandas as pd"
      ]
    },
    {
      "cell_type": "code",
      "execution_count": 3,
      "metadata": {
        "colab": {
          "base_uri": "https://localhost:8080/"
        },
        "id": "I_xEfX3mTkHd",
        "outputId": "bb686be1-e3aa-4e2e-901d-69f45e5dd3f2"
      },
      "outputs": [
        {
          "data": {
            "text/plain": [
              "['Emincan', 'Alper', 'Burak', 'Dilara', 'Zeynep']"
            ]
          },
          "execution_count": 3,
          "metadata": {},
          "output_type": "execute_result"
        }
      ],
      "source": [
        "my_data = ['Emincan' , 'Alper' , 'Burak' , 'Dilara' , 'Zeynep']\n",
        "my_data"
      ]
    },
    {
      "cell_type": "code",
      "execution_count": null,
      "metadata": {
        "id": "yFOc85eYW53V"
      },
      "outputs": [],
      "source": [
        "# pd.Series() fonksiyonu ile elimizdeki verileri Series haline getirebiliriz."
      ]
    },
    {
      "cell_type": "code",
      "execution_count": 4,
      "metadata": {
        "colab": {
          "base_uri": "https://localhost:8080/"
        },
        "id": "_K0TN-VVXCwL",
        "outputId": "ee3fa616-5d97-4024-a1bc-2bbd41a875d8"
      },
      "outputs": [
        {
          "data": {
            "text/plain": [
              "0    Emincan\n",
              "1      Alper\n",
              "2      Burak\n",
              "3     Dilara\n",
              "4     Zeynep\n",
              "dtype: object"
            ]
          },
          "execution_count": 4,
          "metadata": {},
          "output_type": "execute_result"
        }
      ],
      "source": [
        "pd.Series(my_data)"
      ]
    },
    {
      "cell_type": "code",
      "execution_count": 5,
      "metadata": {
        "id": "8FCSeC-zXaTR"
      },
      "outputs": [],
      "source": [
        "my_data = [1923 , 1776 , 1876]\n",
        "my_idx = ['Türkiye' , 'USA' , 'Canada' ]"
      ]
    },
    {
      "cell_type": "code",
      "execution_count": 8,
      "metadata": {
        "colab": {
          "base_uri": "https://localhost:8080/"
        },
        "id": "3MlwSIOfYMqT",
        "outputId": "3df4c27b-ec32-4626-c9bb-15ba4c9a005b"
      },
      "outputs": [
        {
          "data": {
            "text/plain": [
              "Türkiye    1923\n",
              "USA        1776\n",
              "Canada     1876\n",
              "dtype: int64"
            ]
          },
          "execution_count": 8,
          "metadata": {},
          "output_type": "execute_result"
        }
      ],
      "source": [
        "pd.Series(my_data, my_idx)"
      ]
    },
    {
      "cell_type": "code",
      "execution_count": 12,
      "metadata": {
        "colab": {
          "base_uri": "https://localhost:8080/"
        },
        "id": "AvcmlRFUYNyU",
        "outputId": "082f24c4-1f1c-4028-d83c-ef0e34244e08"
      },
      "outputs": [
        {
          "data": {
            "text/plain": [
              "Türkiye    1923\n",
              "USA        1776\n",
              "Canada     1876\n",
              "dtype: int64"
            ]
          },
          "execution_count": 12,
          "metadata": {},
          "output_type": "execute_result"
        }
      ],
      "source": [
        "pd.Series(data= my_data, index= my_idx)"
      ]
    },
    {
      "cell_type": "code",
      "execution_count": null,
      "metadata": {
        "id": "4aFLVk__YiR1"
      },
      "outputs": [],
      "source": [
        "# pd.Series() fonksiyonu içerisine dictionary de alabilir. Dictionary'nin keyleri index, value'ları değer olur."
      ]
    },
    {
      "cell_type": "code",
      "execution_count": 10,
      "metadata": {
        "id": "_x8UgSLDYyHJ"
      },
      "outputs": [],
      "source": [
        "my_dict = {\n",
        "    'Emincan' : 26,\n",
        "    'Kaan' : 23,\n",
        "    'Ayşe' : 21,\n",
        "    'Deniz' : 29\n",
        "    }"
      ]
    },
    {
      "cell_type": "code",
      "execution_count": 13,
      "metadata": {
        "colab": {
          "base_uri": "https://localhost:8080/"
        },
        "id": "45EaZeYQZBxF",
        "outputId": "c14f1aee-3e5d-4bfa-b47d-0341dcc277d2"
      },
      "outputs": [
        {
          "data": {
            "text/plain": [
              "{'Emincan': 26, 'Kaan': 23, 'Ayşe': 21, 'Deniz': 29}"
            ]
          },
          "execution_count": 13,
          "metadata": {},
          "output_type": "execute_result"
        }
      ],
      "source": [
        "my_dict"
      ]
    },
    {
      "cell_type": "code",
      "execution_count": 14,
      "metadata": {
        "colab": {
          "base_uri": "https://localhost:8080/"
        },
        "id": "3IvkAi9DZPDs",
        "outputId": "c9d7c386-b04d-4eee-9042-1b18015b3c0e"
      },
      "outputs": [
        {
          "data": {
            "text/plain": [
              "Emincan    26\n",
              "Kaan       23\n",
              "Ayşe       21\n",
              "Deniz      29\n",
              "dtype: int64"
            ]
          },
          "execution_count": 14,
          "metadata": {},
          "output_type": "execute_result"
        }
      ],
      "source": [
        "pd.Series(data = my_dict)"
      ]
    },
    {
      "cell_type": "code",
      "execution_count": null,
      "metadata": {
        "id": "zPD8iwJjZVul"
      },
      "outputs": [],
      "source": [
        "# Soru : İstanbul 15.4 , İzmir 4.3 , Ankara 5.6 , Bursa 3 şeklinde seri oluşturun. Hem liste göndererek, \n",
        "# hem de dictionary göndererek iki yöntemle de yapın."
      ]
    },
    {
      "cell_type": "code",
      "execution_count": 15,
      "metadata": {
        "colab": {
          "base_uri": "https://localhost:8080/"
        },
        "id": "c9f_FsuYamWX",
        "outputId": "d3ad80df-4bc5-4ed8-872b-34db00466f79"
      },
      "outputs": [
        {
          "data": {
            "text/plain": [
              "İstanbul    15.4\n",
              "İzmir        4.3\n",
              "Ankara       5.6\n",
              "Bursa        3.0\n",
              "dtype: float64"
            ]
          },
          "execution_count": 15,
          "metadata": {},
          "output_type": "execute_result"
        }
      ],
      "source": [
        "my_data = [15.4 , 4.3, 5.6, 3]\n",
        "my_idx = ['İstanbul' , 'İzmir' , 'Ankara' , 'Bursa']\n",
        "pd.Series(my_data , my_idx)"
      ]
    },
    {
      "cell_type": "code",
      "execution_count": 16,
      "metadata": {
        "colab": {
          "base_uri": "https://localhost:8080/"
        },
        "id": "J7IjVnqNatut",
        "outputId": "5fb525e7-ae95-4138-9ca1-8b3227082639"
      },
      "outputs": [
        {
          "data": {
            "text/plain": [
              "İstanbul    15.4\n",
              "İzmir        4.3\n",
              "Ankara       5.6\n",
              "Bursa        3.0\n",
              "dtype: float64"
            ]
          },
          "execution_count": 16,
          "metadata": {},
          "output_type": "execute_result"
        }
      ],
      "source": [
        "my_dict = {\n",
        "    'İstanbul' : 15.4,\n",
        "    'İzmir' : 4.3,\n",
        "    'Ankara': 5.6,\n",
        "    'Bursa' : 3\n",
        "}\n",
        "pd.Series(my_dict)"
      ]
    },
    {
      "cell_type": "markdown",
      "metadata": {
        "id": "TZ-5GzNia3Q9"
      },
      "source": [
        "# Serilerde İşlemler"
      ]
    },
    {
      "cell_type": "code",
      "execution_count": 17,
      "metadata": {
        "id": "V11ohvACa2OT"
      },
      "outputs": [],
      "source": [
        "q1 = {'Japan': 80, 'China' : 450 , 'Turkey': 150 , 'India' : 200 }\n",
        "q2 = {'Japan': 90, 'China' : 420 , 'Turkey': 230 , 'India' : 195 }"
      ]
    },
    {
      "cell_type": "code",
      "execution_count": 20,
      "metadata": {
        "id": "nIqOxilfbVoE"
      },
      "outputs": [],
      "source": [
        "sales_q1 = pd.Series(q1)\n",
        "sales_q2 = pd.Series(q2)"
      ]
    },
    {
      "cell_type": "code",
      "execution_count": 19,
      "metadata": {
        "colab": {
          "base_uri": "https://localhost:8080/"
        },
        "id": "95YlLmcHbeVU",
        "outputId": "246b5bf1-2723-474a-d336-9bd435e4c00e"
      },
      "outputs": [
        {
          "data": {
            "text/plain": [
              "Japan      80\n",
              "China     450\n",
              "Turkey    150\n",
              "India     200\n",
              "dtype: int64"
            ]
          },
          "execution_count": 19,
          "metadata": {},
          "output_type": "execute_result"
        }
      ],
      "source": [
        "sales_q1"
      ]
    },
    {
      "cell_type": "code",
      "execution_count": 21,
      "metadata": {
        "colab": {
          "base_uri": "https://localhost:8080/"
        },
        "id": "KtFX9fogbfLs",
        "outputId": "19b8c5c8-7ad7-4fa2-ba07-0f822912e618"
      },
      "outputs": [
        {
          "data": {
            "text/plain": [
              "Japan      90\n",
              "China     420\n",
              "Turkey    230\n",
              "India     195\n",
              "dtype: int64"
            ]
          },
          "execution_count": 21,
          "metadata": {},
          "output_type": "execute_result"
        }
      ],
      "source": [
        "sales_q2"
      ]
    },
    {
      "cell_type": "code",
      "execution_count": 23,
      "metadata": {
        "colab": {
          "base_uri": "https://localhost:8080/"
        },
        "id": "ui0XGEAPbmrc",
        "outputId": "8ef716f9-3958-49af-94cd-b3ea61f2017d"
      },
      "outputs": [
        {
          "data": {
            "text/plain": [
              "Japan     170\n",
              "China     870\n",
              "Turkey    380\n",
              "India     395\n",
              "dtype: int64"
            ]
          },
          "execution_count": 23,
          "metadata": {},
          "output_type": "execute_result"
        }
      ],
      "source": [
        "sales_total = sales_q1 + sales_q2\n",
        "sales_total"
      ]
    },
    {
      "cell_type": "code",
      "execution_count": 24,
      "metadata": {
        "colab": {
          "base_uri": "https://localhost:8080/"
        },
        "id": "_CtVzOl0b0Qk",
        "outputId": "be80b818-1b0d-45d1-a182-6d737885cf15"
      },
      "outputs": [
        {
          "data": {
            "text/plain": [
              "Index(['Japan', 'China', 'Turkey', 'India'], dtype='object')"
            ]
          },
          "execution_count": 24,
          "metadata": {},
          "output_type": "execute_result"
        }
      ],
      "source": [
        "sales_total.index # .index attribute'ı ile bakabiliriz"
      ]
    },
    {
      "cell_type": "code",
      "execution_count": 25,
      "metadata": {
        "colab": {
          "base_uri": "https://localhost:8080/"
        },
        "id": "nU1QJ7PucKKw",
        "outputId": "8caea31d-ee21-4d0a-d318-ca56eeddfea1"
      },
      "outputs": [
        {
          "data": {
            "text/plain": [
              "Index(['Japan', 'China', 'Turkey', 'India'], dtype='object')"
            ]
          },
          "execution_count": 25,
          "metadata": {},
          "output_type": "execute_result"
        }
      ],
      "source": [
        "sales_total.keys() # .keys() metoduyla da indexlerine bakabiliriz."
      ]
    },
    {
      "cell_type": "code",
      "execution_count": 26,
      "metadata": {
        "colab": {
          "base_uri": "https://localhost:8080/"
        },
        "id": "5QnCKQ-bfkf7",
        "outputId": "67d956a2-83e0-4b0b-e20f-441d544d7d5d"
      },
      "outputs": [
        {
          "data": {
            "text/plain": [
              "array([170, 870, 380, 395])"
            ]
          },
          "execution_count": 26,
          "metadata": {},
          "output_type": "execute_result"
        }
      ],
      "source": [
        "sales_total.values # .values attribute'ı ile serimizin değerlerine bakabiliriz."
      ]
    },
    {
      "cell_type": "code",
      "execution_count": 27,
      "metadata": {
        "colab": {
          "base_uri": "https://localhost:8080/"
        },
        "id": "62sVWFshfu00",
        "outputId": "4df902d6-b7f9-452c-8116-a4799b73dd5c"
      },
      "outputs": [
        {
          "data": {
            "text/plain": [
              "Japan     170\n",
              "China     870\n",
              "Turkey    380\n",
              "India     395\n",
              "dtype: int64"
            ]
          },
          "execution_count": 27,
          "metadata": {},
          "output_type": "execute_result"
        }
      ],
      "source": [
        "sales_total"
      ]
    },
    {
      "cell_type": "code",
      "execution_count": 28,
      "metadata": {
        "colab": {
          "base_uri": "https://localhost:8080/"
        },
        "id": "NdQoRQaJf6YT",
        "outputId": "926bb802-5193-4cee-d40e-8c73bd4e9949"
      },
      "outputs": [
        {
          "data": {
            "text/plain": [
              "Japan      340\n",
              "China     1740\n",
              "Turkey     760\n",
              "India      790\n",
              "dtype: int64"
            ]
          },
          "execution_count": 28,
          "metadata": {},
          "output_type": "execute_result"
        }
      ],
      "source": [
        "sales_total * 2"
      ]
    },
    {
      "cell_type": "code",
      "execution_count": 29,
      "metadata": {
        "colab": {
          "base_uri": "https://localhost:8080/"
        },
        "id": "eMjNAKA4f-Q7",
        "outputId": "5ce2ba2a-2a92-4fa5-c99a-0c9358d126ee"
      },
      "outputs": [
        {
          "data": {
            "text/plain": [
              "Japan     17.0\n",
              "China     87.0\n",
              "Turkey    38.0\n",
              "India     39.5\n",
              "dtype: float64"
            ]
          },
          "execution_count": 29,
          "metadata": {},
          "output_type": "execute_result"
        }
      ],
      "source": [
        "sales_total / 10"
      ]
    },
    {
      "cell_type": "code",
      "execution_count": 31,
      "metadata": {
        "colab": {
          "base_uri": "https://localhost:8080/"
        },
        "id": "krFFv86agCpy",
        "outputId": "321f23c2-77b3-4141-fbfe-ab1cbcaed046"
      },
      "outputs": [
        {
          "data": {
            "text/plain": [
              "Japan     10\n",
              "China    -30\n",
              "Turkey    80\n",
              "India     -5\n",
              "dtype: int64"
            ]
          },
          "execution_count": 31,
          "metadata": {},
          "output_type": "execute_result"
        }
      ],
      "source": [
        "sales_q2 - sales_q1"
      ]
    },
    {
      "cell_type": "code",
      "execution_count": 32,
      "metadata": {
        "id": "0Fhyh-dvgMez"
      },
      "outputs": [],
      "source": [
        "q1 = {'Japan': 80, 'China' : 450 , 'India': 150 , 'USA' : 200 }\n",
        "q2 = {'Brazil': 90, 'China' : 420 , 'India': 230 , 'USA' : 195 }"
      ]
    },
    {
      "cell_type": "code",
      "execution_count": 33,
      "metadata": {
        "id": "WE2NrBPYgpEg"
      },
      "outputs": [],
      "source": [
        "sales_q1 = pd.Series(q1)\n",
        "sales_q2 = pd.Series(q2)"
      ]
    },
    {
      "cell_type": "code",
      "execution_count": 34,
      "metadata": {
        "colab": {
          "base_uri": "https://localhost:8080/"
        },
        "id": "GQOb2ZwOgwUE",
        "outputId": "2aacbaee-6fa2-4399-d7f6-69f6aa63bcc3"
      },
      "outputs": [
        {
          "data": {
            "text/plain": [
              "Japan     80\n",
              "China    450\n",
              "India    150\n",
              "USA      200\n",
              "dtype: int64"
            ]
          },
          "execution_count": 34,
          "metadata": {},
          "output_type": "execute_result"
        }
      ],
      "source": [
        "sales_q1"
      ]
    },
    {
      "cell_type": "code",
      "execution_count": 35,
      "metadata": {
        "colab": {
          "base_uri": "https://localhost:8080/"
        },
        "id": "Ds6y67LXgxWL",
        "outputId": "053ac73c-d9d5-4d16-a753-92e1dfc80bb4"
      },
      "outputs": [
        {
          "data": {
            "text/plain": [
              "Brazil     90\n",
              "China     420\n",
              "India     230\n",
              "USA       195\n",
              "dtype: int64"
            ]
          },
          "execution_count": 35,
          "metadata": {},
          "output_type": "execute_result"
        }
      ],
      "source": [
        "sales_q2"
      ]
    },
    {
      "cell_type": "code",
      "execution_count": 36,
      "metadata": {
        "colab": {
          "base_uri": "https://localhost:8080/"
        },
        "id": "jqgdWo5pgyHj",
        "outputId": "f1d7d4fd-a24d-45bd-a16e-0825b05e1ef1"
      },
      "outputs": [
        {
          "data": {
            "text/plain": [
              "Brazil      NaN\n",
              "China     870.0\n",
              "India     380.0\n",
              "Japan       NaN\n",
              "USA       395.0\n",
              "dtype: float64"
            ]
          },
          "execution_count": 36,
          "metadata": {},
          "output_type": "execute_result"
        }
      ],
      "source": [
        "sales_q1 + sales_q2"
      ]
    },
    {
      "cell_type": "code",
      "execution_count": 38,
      "metadata": {
        "colab": {
          "base_uri": "https://localhost:8080/"
        },
        "id": "zRCzex22g5bT",
        "outputId": "da8c88ce-fa87-4eb7-cdeb-28f99278619f"
      },
      "outputs": [
        {
          "data": {
            "text/plain": [
              "Brazil     90.0\n",
              "China     870.0\n",
              "India     380.0\n",
              "Japan      80.0\n",
              "USA       395.0\n",
              "dtype: float64"
            ]
          },
          "execution_count": 38,
          "metadata": {},
          "output_type": "execute_result"
        }
      ],
      "source": [
        "sales_q1.add(sales_q2 , fill_value = 0)"
      ]
    },
    {
      "cell_type": "code",
      "execution_count": 39,
      "metadata": {
        "colab": {
          "base_uri": "https://localhost:8080/"
        },
        "id": "oerMkXAshSA8",
        "outputId": "8160876f-b3ab-468a-bffe-d85a20585877"
      },
      "outputs": [
        {
          "data": {
            "text/plain": [
              "Japan     80\n",
              "China    450\n",
              "India    150\n",
              "USA      200\n",
              "dtype: int64"
            ]
          },
          "execution_count": 39,
          "metadata": {},
          "output_type": "execute_result"
        }
      ],
      "source": [
        "sales_q1"
      ]
    },
    {
      "cell_type": "code",
      "execution_count": 40,
      "metadata": {
        "colab": {
          "base_uri": "https://localhost:8080/"
        },
        "id": "jAAVcBrRhoXb",
        "outputId": "aa0c9e98-cd03-4e7b-ff46-316c9b1cef50"
      },
      "outputs": [
        {
          "data": {
            "text/plain": [
              "dtype('int64')"
            ]
          },
          "execution_count": 40,
          "metadata": {},
          "output_type": "execute_result"
        }
      ],
      "source": [
        "sales_q1.dtype # .dtype attribute'ı ile serimizin içindeki verilerin tipini çekebiliriz."
      ]
    },
    {
      "cell_type": "code",
      "execution_count": null,
      "metadata": {
        "id": "vdakvnx1hsaz"
      },
      "outputs": [],
      "source": [
        "# Soru : \n",
        "# Fenerbahce 51 , Galatasaray 60 , Besiktas 48 , Trabzonspor 41 şeklinde league_2022 adında bir seri oluşturun.\n",
        "# Fenerbahce 73 , Galatasaray 68 , Besiktas 59 , Trabzonspor 81 şeklinde league_2021 adında bir seri oluşturun.\n",
        "# Fenerbahce 82 , Galatasaray 84 , Besiktas 84 , Trabzonspor 71 şeklinde league_2020 adında bir seri oluşturun.\n",
        "\n",
        "# Bu 4 takımın son 3 yılda topladığı toplam puanları karşılaştırabileceğiniz yeni bir seri oluşturun"
      ]
    },
    {
      "cell_type": "code",
      "execution_count": 41,
      "metadata": {
        "id": "q9MbE0o5i1KR"
      },
      "outputs": [],
      "source": [
        "league_2022 = pd.Series(data= {'Fenerbahce' : 51 , 'Galatasaray' : 60 , 'Besiktas' : 48 , 'Trabzonspor' : 41} )\n",
        "league_2021 = pd.Series(data= {'Fenerbahce' : 73 , 'Galatasaray' : 68 , 'Besiktas' : 59 , 'Trabzonspor' : 81} )\n",
        "league_2020 = pd.Series(data= {'Fenerbahce' : 82 , 'Galatasaray' : 84 , 'Besiktas' : 84 , 'Trabzonspor' : 71} )"
      ]
    },
    {
      "cell_type": "code",
      "execution_count": 43,
      "metadata": {
        "colab": {
          "base_uri": "https://localhost:8080/"
        },
        "id": "o5HEoQ2HjLwz",
        "outputId": "6048f9e1-e922-495e-86aa-757a6cf3145c"
      },
      "outputs": [
        {
          "data": {
            "text/plain": [
              "Fenerbahce     206\n",
              "Galatasaray    212\n",
              "Besiktas       191\n",
              "Trabzonspor    193\n",
              "dtype: int64"
            ]
          },
          "execution_count": 43,
          "metadata": {},
          "output_type": "execute_result"
        }
      ],
      "source": [
        "league_2022 + league_2021 + league_2020"
      ]
    },
    {
      "cell_type": "code",
      "execution_count": null,
      "metadata": {
        "id": "w5amOQSTjNQi"
      },
      "outputs": [],
      "source": [
        "# Done"
      ]
    }
  ],
  "metadata": {
    "colab": {
      "provenance": []
    },
    "kernelspec": {
      "display_name": "Python 3",
      "name": "python3"
    },
    "language_info": {
      "name": "python",
      "version": "3.11.2"
    }
  },
  "nbformat": 4,
  "nbformat_minor": 0
}
